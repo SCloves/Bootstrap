{
 "cells": [
  {
   "cell_type": "markdown",
   "metadata": {},
   "source": [
    "# Bootstrap"
   ]
  },
  {
   "cell_type": "markdown",
   "metadata": {},
   "source": [
    "## Introdução"
   ]
  },
  {
   "cell_type": "markdown",
   "metadata": {},
   "source": [
    "Bootstrap é uma técnica de reamostragem com o objetivo de tentar validar algum parâmetro estatístico $\\theta$ da população, tentando estimar a variabilidade do mesmo para poder criar um intervalo de confiança, usando apenas o mesmo conjunto amostral. Supondo que você tem um conjunto de n pontos e deseja estimar o coeficiente inclinação $\\beta$ da reta de regressão, você então encontra o estimador $\\hat{\\beta}$ usando sua amostra de n pontos e então cria, vamos supor, mais 10 mil amostras aleatórias simples com reposição de tamanho n em cima do mesmo conjunto amostral n, com isso alguns pontos poderão sair repetidos, para cada uma das 10 mil amostras, você obtém um estimador $\\hat{\\beta}$, com isso, teremos 10 mil estimativas do parâmetro desejado e esse conjunto de estimadores formarão uma estimativa da distribuição desse estimador $\\hat{\\beta}$ que se espera que seja aproximadamente normal. Isso lhe dará uma noção da variabilidade do estimador e lhe permite calcular um intervalo de confiança para o mesmo."
   ]
  },
  {
   "cell_type": "markdown",
   "metadata": {},
   "source": [
    "## Terminologia"
   ]
  },
  {
   "cell_type": "markdown",
   "metadata": {},
   "source": [
    "Bootstrap é o nome que se dá a alça que há nas botas para auxiliar na hora de calçar:\n",
    "\n",
    "<img src=\"boo1.png\">"
   ]
  },
  {
   "cell_type": "markdown",
   "metadata": {},
   "source": [
    "Bootstrap originou a vários termos metafóricos de origem inglesa, como Bootstrapping, que surgiu na década de 1880. O tema comum a todos esses termos metafóricos é a realização de um processo sem ajuda externa, mas com etapas de facilitação interna."
   ]
  },
  {
   "cell_type": "markdown",
   "metadata": {},
   "source": [
    "A ideia do método de reamostragem Boostrap é justamente essa, tentar melhorar a estimativa do parâmetro desejado sem ajuda de nenhuma amostra além da que você tem a disposição. "
   ]
  },
  {
   "cell_type": "markdown",
   "metadata": {},
   "source": [
    "## Reproduzindo o algoritmo de Bootstrap"
   ]
  },
  {
   "cell_type": "markdown",
   "metadata": {},
   "source": [
    "Vamos usar como exemplo o conjunto de dados nativo do R chamado *cars*, que nos da a velocidade do carro e a distância percorrida para conseguir parar o carro nesta velocidade, estes dados são de 1920:"
   ]
  },
  {
   "cell_type": "code",
   "execution_count": 5,
   "metadata": {},
   "outputs": [
    {
     "data": {
      "text/html": [
       "<table>\n",
       "<thead><tr><th scope=col>speed</th><th scope=col>dist</th></tr></thead>\n",
       "<tbody>\n",
       "\t<tr><td>4 </td><td> 2</td></tr>\n",
       "\t<tr><td>4 </td><td>10</td></tr>\n",
       "\t<tr><td>7 </td><td> 4</td></tr>\n",
       "\t<tr><td>7 </td><td>22</td></tr>\n",
       "\t<tr><td>8 </td><td>16</td></tr>\n",
       "\t<tr><td>9 </td><td>10</td></tr>\n",
       "</tbody>\n",
       "</table>\n"
      ],
      "text/latex": [
       "\\begin{tabular}{r|ll}\n",
       " speed & dist\\\\\n",
       "\\hline\n",
       "\t 4  &  2\\\\\n",
       "\t 4  & 10\\\\\n",
       "\t 7  &  4\\\\\n",
       "\t 7  & 22\\\\\n",
       "\t 8  & 16\\\\\n",
       "\t 9  & 10\\\\\n",
       "\\end{tabular}\n"
      ],
      "text/markdown": [
       "\n",
       "speed | dist | \n",
       "|---|---|---|---|---|---|\n",
       "| 4  |  2 | \n",
       "| 4  | 10 | \n",
       "| 7  |  4 | \n",
       "| 7  | 22 | \n",
       "| 8  | 16 | \n",
       "| 9  | 10 | \n",
       "\n",
       "\n"
      ],
      "text/plain": [
       "  speed dist\n",
       "1 4      2  \n",
       "2 4     10  \n",
       "3 7      4  \n",
       "4 7     22  \n",
       "5 8     16  \n",
       "6 9     10  "
      ]
     },
     "metadata": {},
     "output_type": "display_data"
    }
   ],
   "source": [
    "head(cars)"
   ]
  },
  {
   "cell_type": "code",
   "execution_count": 7,
   "metadata": {},
   "outputs": [
    {
     "data": {
      "text/html": [
       "<ol class=list-inline>\n",
       "\t<li>50</li>\n",
       "\t<li>2</li>\n",
       "</ol>\n"
      ],
      "text/latex": [
       "\\begin{enumerate*}\n",
       "\\item 50\n",
       "\\item 2\n",
       "\\end{enumerate*}\n"
      ],
      "text/markdown": [
       "1. 50\n",
       "2. 2\n",
       "\n",
       "\n"
      ],
      "text/plain": [
       "[1] 50  2"
      ]
     },
     "metadata": {},
     "output_type": "display_data"
    }
   ],
   "source": [
    "dim(cars)"
   ]
  },
  {
   "cell_type": "markdown",
   "metadata": {},
   "source": [
    "Vamos supor que a uma empresa acabou de produzir um novo modelo de carro que ela pretende lançar em breve no mercado, e por motivos de segurança ela precisa saber qual é a distância percorrida esperada do carro caso seja preciso pará-lo quando o mesmo estiver em uma determinada velocidade. Ela então te contrata para criar um modelo estatístico que consiga estimar bem essa distância, mas ela só lhe fornece os dados do dataset cars que só têm 50 observações."
   ]
  },
  {
   "cell_type": "markdown",
   "metadata": {},
   "source": [
    "Vamos dar uma olhada no gráfico de dispersão destes dados:"
   ]
  },
  {
   "cell_type": "code",
   "execution_count": 6,
   "metadata": {},
   "outputs": [
    {
     "data": {
      "image/png": "[encoded data removed]",
      "text/plain": [
       "plot without title"
      ]
     },
     "metadata": {},
     "output_type": "display_data"
    }
   ],
   "source": [
    "plot(cars)"
   ]
  },
  {
   "cell_type": "markdown",
   "metadata": {},
   "source": [
    "Podemos notar que há uma correlação linear e entre as duas variáveis e então você decide criar um modelo linear símples do tipo: $$\\begin{equation}\n",
    "Y_i = \\beta_0 + \\beta_1 X_i + \\epsilon_i\n",
    "\\end{equation}$$"
   ]
  },
  {
   "cell_type": "markdown",
   "metadata": {},
   "source": [
    "Queremos então encontrar o estimador $\\hat{\\beta_1}$, ou seja, uma estimativa para o coeficiente de inclinação desta reta. Para isso usamos a função lm() do R."
   ]
  },
  {
   "cell_type": "code",
   "execution_count": 8,
   "metadata": {},
   "outputs": [],
   "source": [
    "modelo_linear = lm(dist ~ speed, data=cars) "
   ]
  },
  {
   "cell_type": "code",
   "execution_count": 9,
   "metadata": {},
   "outputs": [
    {
     "data": {
      "text/html": [
       "<dl class=dl-horizontal>\n",
       "\t<dt>(Intercept)</dt>\n",
       "\t\t<dd>-17.5790948905109</dd>\n",
       "\t<dt>speed</dt>\n",
       "\t\t<dd>3.93240875912408</dd>\n",
       "</dl>\n"
      ],
      "text/latex": [
       "\\begin{description*}\n",
       "\\item[(Intercept)] -17.5790948905109\n",
       "\\item[speed] 3.93240875912408\n",
       "\\end{description*}\n"
      ],
      "text/markdown": [
       "(Intercept)\n",
       ":   -17.5790948905109speed\n",
       ":   3.93240875912408\n",
       "\n"
      ],
      "text/plain": [
       "(Intercept)       speed \n",
       " -17.579095    3.932409 "
      ]
     },
     "metadata": {},
     "output_type": "display_data"
    }
   ],
   "source": [
    "# vamos dar uma olhada na estimativa dos coeficientes\n",
    "coef(modelo_linear)"
   ]
  },
  {
   "cell_type": "markdown",
   "metadata": {},
   "source": [
    "Obtemos com essa amostra, $\\hat{\\beta_1} = 3.93$. O quão boa esta estimativa é? Para isso precisaríamos de várias outras amostras para obter diferentes estimativas e assim criar um intervalo de confiança, caso essa estima de $\\hat{\\beta_1} = 3.93$ seja razoável, ela estará contida neste intervalo."
   ]
  },
  {
   "cell_type": "markdown",
   "metadata": {},
   "source": [
    "Como não temos mais amostras, e a empresa não se mostrou muito disposta em coletar mais dados do tipo, vamos nos virar com o que temos mesmo e simular amostras em cima da que temos, ou seja, iremos usar a técnica de Bootstrapping. Vamos criar mil amostras aleatórias símples com reposição de tamanho 50 retirada das 50 observações reais que já temos."
   ]
  },
  {
   "cell_type": "code",
   "execution_count": 12,
   "metadata": {},
   "outputs": [],
   "source": [
    "x = cars$speed\n",
    "y = cars$dist"
   ]
  },
  {
   "cell_type": "code",
   "execution_count": 70,
   "metadata": {},
   "outputs": [],
   "source": [
    "set.seed(1)\n",
    "reamostrar = function(var){\n",
    "    # Função que gera uma\n",
    "    # amostra aleatória simples\n",
    "    # com reposição de tamanho 50\n",
    "    # recebe como parâmetro um vetor \n",
    "    # var com 50 valores\n",
    "    amostra = sample(var, 50, replace = TRUE, prob = NULL)\n",
    "    return(amostra)\n",
    "}"
   ]
  },
  {
   "cell_type": "code",
   "execution_count": 71,
   "metadata": {},
   "outputs": [],
   "source": [
    "obter_betas = function(n, df){\n",
    "    # função que gera uma \n",
    "    # lista de n estimadores beta\n",
    "    x = df$speed\n",
    "    y = df$dist\n",
    "    betas = rep(0, n)\n",
    "    for(i in 0:n){\n",
    "        X = reamostrar(x)\n",
    "        Y = reamostrar(y)\n",
    "        modelo = lm(Y ~ X)\n",
    "        betas[i] = modelo$coefficients['X']\n",
    "    }\n",
    "    return(betas)\n",
    "}"
   ]
  },
  {
   "cell_type": "code",
   "execution_count": 76,
   "metadata": {},
   "outputs": [],
   "source": [
    "# obtendo 10 mil estimadores de beta\n",
    "# em cima de amostras retiradas de cars \n",
    "estimadores_beta = obter_betas(10000, cars)"
   ]
  },
  {
   "cell_type": "markdown",
   "metadata": {},
   "source": [
    "Vamos verificar a distrinuição desses estimadores, esperamos ver algo semelhante a curva normal, conforme dita o teorema do limite central."
   ]
  },
  {
   "cell_type": "code",
   "execution_count": 77,
   "metadata": {},
   "outputs": [
    {
     "data": {
      "image/png": "[encoded data removed]",
      "text/plain": [
       "Plot with title “Distribuição de Densidade dos Estimadores Beta”"
      ]
     },
     "metadata": {},
     "output_type": "display_data"
    }
   ],
   "source": [
    "plot(density(estimadores_beta), \n",
    "     main = 'Distribuição de Densidade dos Estimadores Beta',\n",
    "     xlab = 'Valores de Beta',\n",
    "     ylab = 'Densidade')"
   ]
  },
  {
   "cell_type": "markdown",
   "metadata": {},
   "source": [
    "Para um intervalo de confiança de 95%, temos $\\alpha = 5\\%$, e portanto $\\alpha/2 = 2.5\\%$ apara a calda inferior e superior, comforme a figura a seguir:\n",
    "\n",
    "<img src='normal.png'>"
   ]
  },
  {
   "cell_type": "markdown",
   "metadata": {},
   "source": [
    "Para obter esses o valores, usamos a função quantile() para encontrar $\\hat{\\beta_1}$ que deixa 2.5% das observações atrás dele e o $\\hat{\\beta_1}$ que deixa 97.5% das bservações atrás dele."
   ]
  },
  {
   "cell_type": "code",
   "execution_count": 78,
   "metadata": {},
   "outputs": [
    {
     "data": {
      "text/html": [
       "<strong>2.5%:</strong> -1.38266775510406"
      ],
      "text/latex": [
       "\\textbf{2.5\\textbackslash{}\\%:} -1.38266775510406"
      ],
      "text/markdown": [
       "**2.5%:** -1.38266775510406"
      ],
      "text/plain": [
       "     2.5% \n",
       "-1.382668 "
      ]
     },
     "metadata": {},
     "output_type": "display_data"
    }
   ],
   "source": [
    "quantile(estimadores_beta, 0.025)"
   ]
  },
  {
   "cell_type": "code",
   "execution_count": 79,
   "metadata": {},
   "outputs": [
    {
     "data": {
      "text/html": [
       "<strong>97.5%:</strong> 1.38294209791416"
      ],
      "text/latex": [
       "\\textbf{97.5\\textbackslash{}\\%:} 1.38294209791416"
      ],
      "text/markdown": [
       "**97.5%:** 1.38294209791416"
      ],
      "text/plain": [
       "   97.5% \n",
       "1.382942 "
      ]
     },
     "metadata": {},
     "output_type": "display_data"
    }
   ],
   "source": [
    "quantile(estimadores_beta, 0.975)"
   ]
  },
  {
   "cell_type": "markdown",
   "metadata": {},
   "source": [
    "Portanto, esperamos com 95% de confiança que $\\beta_1$ de nossa população de interesse esteja entre -1.38 e 1.38. Concluimos então que nosso estimador inicial de $\\hat{\\beta_1} = 3.93$ não foi muito feliz, pois está fora deste intervalo."
   ]
  }
 ],
 "metadata": {
  "kernelspec": {
   "display_name": "R",
   "language": "R",
   "name": "ir"
  },
  "language_info": {
   "codemirror_mode": "r",
   "file_extension": ".r",
   "mimetype": "text/x-r-source",
   "name": "R",
   "pygments_lexer": "r",
   "version": "3.4.4"
  }
 },
 "nbformat": 4,
 "nbformat_minor": 2
}
